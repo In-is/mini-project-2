{
 "cells": [
  {
   "cell_type": "code",
   "execution_count": null,
   "metadata": {},
   "outputs": [],
   "source": []
  },
  {
   "cell_type": "markdown",
   "metadata": {},
   "source": [
    "Import Libraries"
   ]
  },
  {
   "cell_type": "code",
   "execution_count": 1,
   "metadata": {},
   "outputs": [
    {
     "ename": "ModuleNotFoundError",
     "evalue": "No module named 'numpy'",
     "output_type": "error",
     "traceback": [
      "\u001b[1;31m---------------------------------------------------------------------------\u001b[0m",
      "\u001b[1;31mModuleNotFoundError\u001b[0m                       Traceback (most recent call last)",
      "Cell \u001b[1;32mIn[1], line 2\u001b[0m\n\u001b[0;32m      1\u001b[0m \u001b[38;5;66;03m# Import necessary libraries\u001b[39;00m\n\u001b[1;32m----> 2\u001b[0m \u001b[38;5;28;01mimport\u001b[39;00m\u001b[38;5;250m \u001b[39m\u001b[38;5;21;01mnumpy\u001b[39;00m\u001b[38;5;250m \u001b[39m\u001b[38;5;28;01mas\u001b[39;00m\u001b[38;5;250m \u001b[39m\u001b[38;5;21;01mnp\u001b[39;00m\n\u001b[0;32m      3\u001b[0m \u001b[38;5;28;01mimport\u001b[39;00m\u001b[38;5;250m \u001b[39m\u001b[38;5;21;01mpandas\u001b[39;00m\u001b[38;5;250m \u001b[39m\u001b[38;5;28;01mas\u001b[39;00m\u001b[38;5;250m \u001b[39m\u001b[38;5;21;01mpd\u001b[39;00m\n\u001b[0;32m      4\u001b[0m \u001b[38;5;28;01mimport\u001b[39;00m\u001b[38;5;250m \u001b[39m\u001b[38;5;21;01mmatplotlib\u001b[39;00m\u001b[38;5;21;01m.\u001b[39;00m\u001b[38;5;21;01mpyplot\u001b[39;00m\u001b[38;5;250m \u001b[39m\u001b[38;5;28;01mas\u001b[39;00m\u001b[38;5;250m \u001b[39m\u001b[38;5;21;01mplt\u001b[39;00m\n",
      "\u001b[1;31mModuleNotFoundError\u001b[0m: No module named 'numpy'"
     ]
    }
   ],
   "source": [
    "# Import necessary libraries\n",
    "import numpy as np\n",
    "import pandas as pd\n",
    "import matplotlib.pyplot as plt\n"
   ]
  },
  {
   "cell_type": "markdown",
   "metadata": {},
   "source": [
    "Function to Smooth the Signal"
   ]
  },
  {
   "cell_type": "code",
   "execution_count": null,
   "metadata": {},
   "outputs": [],
   "source": [
    "# Function to smooth the behavioral signal using a Gaussian window\n",
    "def find_finger_events(tr):\n",
    "    # Create a Gaussian window of size 80\n",
    "    x = np.arange(1, 81)\n",
    "    gs = np.exp(-((x - 40)**2) / 160)\n",
    "    gs_norm = gs / np.sum(gs)  # Normalize to sum to 1\n",
    "    \n",
    "    # Apply convolution between the signal and the Gaussian window\n",
    "    tra = np.convolve(tr, gs_norm, mode='same')\n",
    "    return tra\n"
   ]
  },
  {
   "cell_type": "markdown",
   "metadata": {},
   "source": [
    "Function to Detect Event Start Points"
   ]
  },
  {
   "cell_type": "code",
   "execution_count": null,
   "metadata": {},
   "outputs": [],
   "source": [
    "# Function to detect event start points and local minima\n",
    "def find_event_starts(tra):\n",
    "    # Threshold calculation: mean + standard deviation\n",
    "    thresh = np.mean(tra) + np.std(tra)\n",
    "    \n",
    "    # Identify points exceeding the threshold\n",
    "    a1 = tra > thresh\n",
    "    \n",
    "    # Check surrounding values for maxima conditions\n",
    "    a2_tra = np.concatenate([tra[1:], [0]])  # Shift left\n",
    "    a3_tra = np.concatenate([[0], tra[:-1]])  # Shift right\n",
    "    a2 = (tra - a2_tra) > 0\n",
    "    a3 = (tra - a3_tra) > 0\n",
    "    a = np.where(a1 & a2 & a3)[0]  # Combine conditions\n",
    "    \n",
    "    # Detect local minima\n",
    "    b2 = np.diff(np.concatenate(([0], tra))) < 0  # Downward slope\n",
    "    b3 = np.diff(np.concatenate((tra, [0]))) > 0  # Upward slope\n",
    "    closest_min = np.where(b2 & b3)[0]  # Combine conditions\n",
    "    \n",
    "    return a, closest_min\n"
   ]
  },
  {
   "cell_type": "markdown",
   "metadata": {},
   "source": [
    "Main Function to Calculate ERP"
   ]
  },
  {
   "cell_type": "code",
   "execution_count": null,
   "metadata": {},
   "outputs": [],
   "source": [
    "# Function to calculate ERP and return the averaged signals for each finger\n",
    "def calc_mean_erp(trial_points_file, ecog_data_file):\n",
    "    # Load trial points and brain signal data\n",
    "    trial_points = pd.read_csv(trial_points_file, names=['start', 'peak', 'finger'], header=0)\n",
    "    ecog_data = pd.read_csv(ecog_data_file, header=None).squeeze()\n",
    "    \n",
    "    # Parameters\n",
    "    pre_start = 200  # 200 ms before the start of movement\n",
    "    post_start = 1000  # 1000 ms after the start of movement\n",
    "    window_length = pre_start + post_start + 1  # Total window size = 1201\n",
    "    \n",
    "    # Initialize a dictionary to store signals by finger\n",
    "    signals_by_finger = {finger: [] for finger in range(1, 6)}\n",
    "    \n",
    "    # Extract windows for each trial\n",
    "    for _, row in trial_points.iterrows():\n",
    "        start_idx = row['start']\n",
    "        finger = row['finger']\n",
    "        \n",
    "        # Extract the brain signal window\n",
    "        if start_idx - pre_start >= 0 and start_idx + post_start < len(ecog_data):\n",
    "            segment = ecog_data[start_idx - pre_start:start_idx + post_start + 1]\n",
    "            signals_by_finger[finger].append(segment)\n",
    "    \n",
    "    # Calculate the average ERP for each finger\n",
    "    fingers_erp_mean = []\n",
    "    for finger in range(1, 6):\n",
    "        if signals_by_finger[finger]:\n",
    "            avg_signal = np.mean(signals_by_finger[finger], axis=0)\n",
    "            fingers_erp_mean.append(avg_signal)\n",
    "        else:\n",
    "            fingers_erp_mean.append(np.zeros(window_length))\n",
    "    \n",
    "    fingers_erp_mean = np.array(fingers_erp_mean)\n",
    "    \n",
    "    # Plot the ERP for each finger\n",
    "    plt.figure(figsize=(10, 6))\n",
    "    for finger, avg_signal in enumerate(fingers_erp_mean, start=1):\n",
    "        plt.plot(avg_signal, label=f\"Finger {finger}\")\n",
    "    plt.xlabel(\"Time (ms)\")\n",
    "    plt.ylabel(\"Brain Response (µV)\")\n",
    "    plt.title(\"Averaged ERP by Finger\")\n",
    "    plt.legend()\n",
    "    plt.show()\n",
    "    \n",
    "    return fingers_erp_mean\n"
   ]
  },
  {
   "cell_type": "markdown",
   "metadata": {},
   "source": [
    "Load and Process the Data"
   ]
  },
  {
   "cell_type": "code",
   "execution_count": null,
   "metadata": {},
   "outputs": [],
   "source": [
    "# Load the finger data and preprocess it\n",
    "finger_data_file = '/mnt/data/finger_data.csv'\n",
    "finger_data = pd.read_csv(finger_data_file).iloc[:, 0]  # Use the first column as the behavioral signal\n",
    "\n",
    "# Smooth the signal using the Gaussian window\n",
    "smoothed_signal = find_finger_events(finger_data)\n",
    "\n",
    "# Detect the start points and local minima\n",
    "start_points, local_minima = find_event_starts(smoothed_signal)\n"
   ]
  },
  {
   "cell_type": "markdown",
   "metadata": {},
   "source": [
    "Calculate and Plot ERP"
   ]
  },
  {
   "cell_type": "code",
   "execution_count": null,
   "metadata": {},
   "outputs": [],
   "source": [
    "# File paths for trial points and brain signal data\n",
    "trial_points_file = '/mnt/data/events_file_ordered.csv'\n",
    "ecog_data_file = '/mnt/data/brain_data_channel_one.csv'\n",
    "\n",
    "# Calculate the ERP and obtain the ERP matrix\n",
    "erp_matrix = calc_mean_erp(trial_points_file, ecog_data_file)\n",
    "\n",
    "# Print the ERP matrix\n",
    "print(\"ERP Matrix (5x1201):\")\n",
    "print(erp_matrix)\n"
   ]
  }
 ],
 "metadata": {
  "kernelspec": {
   "display_name": "venv",
   "language": "python",
   "name": "python3"
  },
  "language_info": {
   "codemirror_mode": {
    "name": "ipython",
    "version": 3
   },
   "file_extension": ".py",
   "mimetype": "text/x-python",
   "name": "python",
   "nbconvert_exporter": "python",
   "pygments_lexer": "ipython3",
   "version": "3.12.8"
  }
 },
 "nbformat": 4,
 "nbformat_minor": 2
}
